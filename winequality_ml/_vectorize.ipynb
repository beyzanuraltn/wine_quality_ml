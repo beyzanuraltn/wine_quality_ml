{
 "cells": [
  {
   "cell_type": "markdown",
   "id": "7265b082-5d09-417e-8d63-6fc9cae13615",
   "metadata": {},
   "source": [
    "# Vectorize İşlemi ve TF-IDF Vectorizer ile Örnekler\n",
    "\n",
    "##  Vectorize (Vektörleştirme) Nedir?\n",
    "\n",
    "Makine öğrenmesinde ve doğal dil işleme (NLP) uygulamalarında, metin verileri doğrudan sayısal algoritmalarla işlenemez. Bu nedenle **vektörleştirme**, metinleri sayısal vektörlere dönüştürme işlemidir.\n",
    "\n",
    "Örneğin:\"Merhaba dünya\"\n"
   ]
  },
  {
   "cell_type": "markdown",
   "id": "cf6ca979-5379-4f54-85c1-cc9c3b97f6b7",
   "metadata": {},
   "source": [
    "\n",
    "bu cümle, sayısal bir modelin anlayabileceği şekilde bir **vektör** haline getirilmelidir.\n",
    "\n",
    "---\n",
    "\n",
    "## 📌 TF-IDF (Term Frequency – Inverse Document Frequency) Nedir?\n",
    "\n",
    "TF-IDF, bir kelimenin bir belgede ne kadar önemli olduğunu belirlemek için kullanılan istatistiksel bir yöntemdir.\n",
    "\n",
    "### Bileşenleri:\n",
    "- **TF (Term Frequency)**: Bir kelimenin belgede kaç kez geçtiğini ölçer.\n",
    "- **IDF (Inverse Document Frequency)**: Bu kelimenin tüm belgeler arasında ne kadar nadir olduğunu ölçer.\n",
    "\n",
    "### Formül:TF-IDF(w, d, D) = TF(w, d) * log(N / DF(w))\n",
    "- `w`: kelime\n",
    "- `d`: belge\n",
    "- `D`: belge koleksiyonu\n",
    "- `N`: toplam belge sayısı\n",
    "- `DF(w)`: `w` kelimesinin içinde bulunduğu belge sayısı\n",
    "\n",
    "---"
   ]
  },
  {
   "cell_type": "code",
   "execution_count": 4,
   "id": "aeb1e997-915a-4955-95ab-e217cbf59b0a",
   "metadata": {},
   "outputs": [
    {
     "name": "stdout",
     "output_type": "stream",
     "text": [
      "      kedi       kuş    köpek      uçar       ve\n",
      "0  0.50000  0.500000  0.50000  0.000000  0.50000\n",
      "1  0.57735  0.000000  0.57735  0.000000  0.57735\n",
      "2  0.00000  0.605349  0.00000  0.795961  0.00000\n"
     ]
    }
   ],
   "source": [
    "\n",
    "## 🧪 Örnek Uygulama (Python – scikit-learn ile)\n",
    "from sklearn.feature_extraction.text import TfidfVectorizer\n",
    "\n",
    "# Örnek belgeler\n",
    "belgeler = [\n",
    "    \"kedi köpek ve kuş\",\n",
    "    \"kedi ve köpek\",\n",
    "    \"kuş uçar\"\n",
    "]\n",
    "\n",
    "# TF-IDF vectorizer nesnesi oluştur\n",
    "vectorizer = TfidfVectorizer()\n",
    "\n",
    "# Vektörleştirme işlemi\n",
    "tfidf_matrisi = vectorizer.fit_transform(belgeler)\n",
    "\n",
    "# Kelime adları\n",
    "kelimeler = vectorizer.get_feature_names_out()\n",
    "\n",
    "# Matrisin DataFrame haline getirilmesi\n",
    "import pandas as pd\n",
    "\n",
    "df = pd.DataFrame(tfidf_matrisi.toarray(), columns=kelimeler)\n",
    "print(df)\n"
   ]
  },
  {
   "cell_type": "markdown",
   "id": "23946da0-b49d-4f96-97b2-fe4a14a16e9a",
   "metadata": {},
   "source": [
    "Her hücredeki değer, o kelimenin ilgili belgede ne kadar önemli olduğunu gösterir.\n",
    "uçar kelimesi sadece 3. belgede geçtiği için yüksek bir TF-IDF değerine sahiptir.\n",
    "kedi ve köpek gibi sık geçen kelimelerin değeri daha dengelidir."
   ]
  },
  {
   "cell_type": "code",
   "execution_count": null,
   "id": "72636185-fdff-4668-aad8-b803d3f89e2a",
   "metadata": {},
   "outputs": [],
   "source": []
  }
 ],
 "metadata": {
  "kernelspec": {
   "display_name": "Python 3 (ipykernel)",
   "language": "python",
   "name": "python3"
  },
  "language_info": {
   "codemirror_mode": {
    "name": "ipython",
    "version": 3
   },
   "file_extension": ".py",
   "mimetype": "text/x-python",
   "name": "python",
   "nbconvert_exporter": "python",
   "pygments_lexer": "ipython3",
   "version": "3.9.21"
  }
 },
 "nbformat": 4,
 "nbformat_minor": 5
}
